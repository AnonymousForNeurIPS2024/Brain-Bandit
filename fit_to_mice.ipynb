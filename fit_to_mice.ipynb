{
 "cells": [
  {
   "cell_type": "code",
   "id": "initial_id",
   "metadata": {
    "collapsed": true,
    "ExecuteTime": {
     "end_time": "2024-05-22T06:39:24.274008Z",
     "start_time": "2024-05-22T06:39:23.933744Z"
    }
   },
   "source": [
    "import os\n",
    "import numpy as np\n",
    "import pandas as pd\n",
    "import seaborn as sns\n",
    "import plot_models_v_mouse as bp\n",
    "import model_policies as models\n",
    "from sklearn.model_selection import train_test_split\n",
    "import conditional_probs as cprobs\n",
    "import resample_and_model_reps as reps\n",
    "import model_fitting as fit\n",
    "from theory import calculate_escape"
   ],
   "outputs": [
    {
     "ename": "ModuleNotFoundError",
     "evalue": "No module named 'ssm'",
     "output_type": "error",
     "traceback": [
      "\u001B[0;31m---------------------------------------------------------------------------\u001B[0m",
      "\u001B[0;31mModuleNotFoundError\u001B[0m                       Traceback (most recent call last)",
      "Cell \u001B[0;32mIn[1], line 6\u001B[0m\n\u001B[1;32m      4\u001B[0m \u001B[38;5;28;01mimport\u001B[39;00m \u001B[38;5;21;01mseaborn\u001B[39;00m \u001B[38;5;28;01mas\u001B[39;00m \u001B[38;5;21;01msns\u001B[39;00m\n\u001B[1;32m      5\u001B[0m \u001B[38;5;28;01mimport\u001B[39;00m \u001B[38;5;21;01mplot_models_v_mouse\u001B[39;00m \u001B[38;5;28;01mas\u001B[39;00m \u001B[38;5;21;01mbp\u001B[39;00m\n\u001B[0;32m----> 6\u001B[0m \u001B[38;5;28;01mimport\u001B[39;00m \u001B[38;5;21;01mmodel_policies\u001B[39;00m \u001B[38;5;28;01mas\u001B[39;00m \u001B[38;5;21;01mmodels\u001B[39;00m\n\u001B[1;32m      7\u001B[0m \u001B[38;5;28;01mfrom\u001B[39;00m \u001B[38;5;21;01msklearn\u001B[39;00m\u001B[38;5;21;01m.\u001B[39;00m\u001B[38;5;21;01mmodel_selection\u001B[39;00m \u001B[38;5;28;01mimport\u001B[39;00m train_test_split\n\u001B[1;32m      8\u001B[0m \u001B[38;5;28;01mimport\u001B[39;00m \u001B[38;5;21;01mconditional_probs\u001B[39;00m \u001B[38;5;28;01mas\u001B[39;00m \u001B[38;5;21;01mcprobs\u001B[39;00m\n",
      "File \u001B[0;32m~/PycharmProjects/Brain-inspired-Exploration_new(5.4)/Brain-inspired-Exploration/Data_fitting/mice_data/model_policies.py:190\u001B[0m\n\u001B[1;32m    187\u001B[0m \u001B[38;5;124;03m'''HMM VARIATIONS'''\u001B[39;00m\n\u001B[1;32m    189\u001B[0m \u001B[38;5;66;03m# Now implement the Thompson sampling mouse using the HMM world model.  Use SSM to implement the observation and transition distribution.\u001B[39;00m\n\u001B[0;32m--> 190\u001B[0m \u001B[38;5;28;01mfrom\u001B[39;00m \u001B[38;5;21;01mssm\u001B[39;00m\u001B[38;5;21;01m.\u001B[39;00m\u001B[38;5;21;01mobservations\u001B[39;00m \u001B[38;5;28;01mimport\u001B[39;00m Observations\n\u001B[1;32m    191\u001B[0m \u001B[38;5;28;01mfrom\u001B[39;00m \u001B[38;5;21;01mssm\u001B[39;00m\u001B[38;5;21;01m.\u001B[39;00m\u001B[38;5;21;01mtransitions\u001B[39;00m \u001B[38;5;28;01mimport\u001B[39;00m StationaryTransitions\n\u001B[1;32m    192\u001B[0m \u001B[38;5;28;01mfrom\u001B[39;00m \u001B[38;5;21;01mssm\u001B[39;00m \u001B[38;5;28;01mimport\u001B[39;00m HMM\n",
      "\u001B[0;31mModuleNotFoundError\u001B[0m: No module named 'ssm'"
     ]
    }
   ],
   "execution_count": 1
  },
  {
   "cell_type": "code",
   "source": [
    "data = pd.read_csv(os.path.join('mouse_data.csv'))\n",
    "data.head()\n",
    "probs='80-20' # P(high)-P(low)\n",
    "seq_nback=3 # history length for conditional probabilites\n",
    "train_prop=0.7 # for splitting sessions into train and test\n",
    "seed = np.random.randint(1000) # set seed for reproducibility\n",
    "\n",
    "data = data.loc[data.Condition==probs] # segment out task condition\n",
    "data = cprobs.add_history_cols(data, seq_nback) # set history labels up front\n",
    "data.head()\n",
    "# train_session_ids, test_session_ids = train_test_split(data.Session.unique(), \n",
    "#                                                        train_size=train_prop, random_state=seed) # split full df for train/test"
   ],
   "metadata": {
    "collapsed": false
   },
   "id": "3c8ee3ce5baf6864",
   "outputs": [],
   "execution_count": null
  },
  {
   "cell_type": "code",
   "source": [
    "session_ids = data.Session.unique()\n",
    "# session_ids = ['m1_63','m1_64','m1_65','m1_67', 'm1_92', 'm1_16', 'm1_17', 'm1_18']\n",
    "print(session_ids)"
   ],
   "metadata": {
    "collapsed": false
   },
   "id": "1912d1e3e98e8ea4",
   "outputs": [],
   "execution_count": null
  },
  {
   "cell_type": "code",
   "source": [
    "\n",
    "data['block_pos_rev'] = data['blockTrial'] - data['blockLength'] # reverse block position from transition\n",
    "data['model']='mouse'\n",
    "data['highPort'] = data['Decision']==data['Target'] # boolean, chose higher probability port\n",
    "\n",
    "train_features, _, _ = reps.pull_sample_dataset(session_ids, data)\n",
    "test_features, _, block_pos_core = reps.pull_sample_dataset(session_ids, data)\n",
    "print(block_pos_core)\n",
    "block_pos_core.to_csv('./block_pos_core.csv', index=False)\n",
    "bpos_mouse = bp.get_block_position_summaries(block_pos_core)\n",
    "bpos_mouse['condition'] = 'mouse'\n",
    "print(bpos_mouse)"
   ],
   "metadata": {
    "collapsed": false
   },
   "id": "fd2a518169bcad56",
   "outputs": [],
   "execution_count": null
  },
  {
   "cell_type": "code",
   "source": [
    "L1 = 1 # choice history\n",
    "L2 =  5 # choice * reward history\n",
    "L3 = 0\n",
    "memories = [L1, L3, L2, 1]\n",
    "\n",
    "lr = models.fit_logreg_policy(train_features, memories) # refit model with reduced histories, training set\n",
    "model_probs = models.compute_logreg_probs(test_features, lr_args=[lr, memories])"
   ],
   "metadata": {
    "collapsed": false
   },
   "id": "9ae8a10c1c310c9b",
   "outputs": [],
   "execution_count": null
  },
  {
   "cell_type": "code",
   "source": [
    "print(lr)"
   ],
   "metadata": {
    "collapsed": false
   },
   "id": "18129af6b5216971",
   "outputs": [],
   "execution_count": null
  },
  {
   "cell_type": "code",
   "source": [
    "model_choices, model_switches = models.model_to_policy(model_probs, test_features, policy='stochastic')\n",
    "\n",
    "linear = reps.reconstruct_block_pos(block_pos_core, model_choices, model_switches)\n",
    "linear_model = bp.get_block_position_summaries(linear)\n",
    "linear_model['condition'] = 'model' # label model predictions as such\n",
    "linear_model_v_mouse = pd.concat((bpos_mouse, linear_model)) # agg df with model predictions and mouse data\n",
    "color_dict = {'mouse': 'gray', 'model': sns.color_palette()[0]}#plot_config['model_seq_col']}\n",
    "bp.plot_by_block_position(bpos_mouse, subset='condition', color_dict = color_dict)"
   ],
   "metadata": {
    "collapsed": false
   },
   "id": "9a3d9cd78c7d5a36",
   "outputs": [],
   "execution_count": null
  },
  {
   "cell_type": "code",
   "source": [
    "for i in range(1):\n",
    "    print(len(test_features[0][0]))\n",
    "    # print(model_choices[0])\n",
    "    # print(model_switches[0])\n",
    "    # s = \n",
    "    # print(model_choices[i])"
   ],
   "metadata": {
    "collapsed": false
   },
   "id": "2a670224de20fc24",
   "outputs": [],
   "execution_count": null
  },
  {
   "cell_type": "code",
   "source": [
    "history_length = 5\n",
    "from Lyapunov_Worm_deconstruction import Lyapunov_Worm_Deconstruction\n",
    "from tqdm import tqdm\n",
    "dim = 2\n",
    "varargin = {\n",
    "    'step_num': 400,  # how many steps to run the brain circuit before executing the next movement\n",
    "    'tau': np.ones(dim),  # decay time constant\n",
    "    'weights_in': np.ones(dim) * 1.,  # input weights\n",
    "    'rs': np.ones(dim) * .5,  #\n",
    "    'w': np.ones(dim) * 4,  # weight of mutual inhibition\n",
    "    'k': 7. * np.ones(dim),  # sigmoid center\n",
    "    'n': 1.0 * np.ones(dim),  # sigmoid slope\n",
    "    'bi': np.ones(dim) * 5.,  # baseline production\n",
    "    'dt': 1.2,  # size of timesteps\n",
    "    'nsf': 0.85,  # noise level\n",
    "    'w_avg_comp': 0.5,\n",
    "    'w_std_comp': 0.5\n",
    "}\n",
    "choice_list = []\n",
    "switches_list = []\n",
    "ALL = 0\n",
    "num = 0\n",
    "for session in range(len(test_features)):\n",
    "    idx = 0\n",
    "    net = Lyapunov_Worm_Deconstruction(varargin=varargin, dim=dim)\n",
    "    choice_history_session = test_features[session][0]\n",
    "    reward_history_session = test_features[session][1]\n",
    "    choice_list_session = []\n",
    "    switches_list_session = []\n",
    "    for trial in tqdm(range(choice_history_session.shape[0])):\n",
    "        idx += 1\n",
    "        # print(idx)\n",
    "        reward_history_list = [[0.],[0.]]\n",
    "        lf = max(0, trial - history_length)\n",
    "        choice_history = choice_history_session[lf:trial]\n",
    "        reward_history = reward_history_session[lf: trial]\n",
    "        # print((lf, trial+1))\n",
    "        # reward_history[reward_history==0] = -1\n",
    "        decay_list = np.arange(0, len(reward_history), 1)\n",
    "        decay_list = decay_list[::-1]\n",
    "        decay_list = 2.1*np.exp(-decay_list/1.3)\n",
    "        # print(decay_list)\n",
    "        reward_history = reward_history * decay_list \n",
    "        reward_history_list[0] += reward_history[choice_history==0].tolist()\n",
    "        reward_history_list[1] += reward_history[choice_history==1].tolist()\n",
    "        # print(reward_history_list)\n",
    "        reward_history = np.array(reward_history_list)\n",
    "        last_choice = choice_history[-1] if len(choice_history) > 0 else None\n",
    "        init_point = None\n",
    "        # print(reward_history)\n",
    "        if last_choice == 0:\n",
    "            init_point = [10.,2.]\n",
    "        elif last_choice == 1:\n",
    "            init_point = [2., 10.]\n",
    "        choice= net.decide(history=reward_history, init=True, init_point=init_point)\n",
    "        choice_list_session.append(choice)\n",
    "        if trial == 0:\n",
    "            switches_list_session.append(0)\n",
    "        else:\n",
    "            if choice != last_choice:\n",
    "                switches_list_session.append(1)\n",
    "            else:\n",
    "                switches_list_session.append(0)\n",
    "        I1 = np.mean(reward_history_list[0]) * varargin['w_avg_comp']\n",
    "        I2 = np.mean(reward_history_list[1]) * varargin['w_avg_comp']\n",
    "        # print((noise1, noise2))\n",
    "        noise1 = np.sqrt(varargin['nsf'] **2 + (np.std(reward_history_list[0])*varargin['w_std_comp']) **2) \n",
    "        noise2 = np.sqrt(varargin['nsf'] **2 + (np.std(reward_history_list[1])* varargin['w_std_comp']) **2)\n",
    "        P1, P2 = calculate_escape(I=[I1, I2], noise=[noise1, noise2])\n",
    "        # print((P1,P2))\n",
    "        target = choice_history_session[trial]\n",
    "        LL = (1-target) * np.log(float(P1)) + target * np.log(float(P2))\n",
    "        num += 1\n",
    "        # print(LL)\n",
    "        ALL += LL\n",
    "    choice_list.append(choice_list_session)\n",
    "    # print(choice_list)\n",
    "    switches_list.append(switches_list_session)\n",
    "        # print(choice)"
   ],
   "metadata": {
    "collapsed": false
   },
   "id": "31d7943835e02ba4",
   "outputs": [],
   "execution_count": null
  },
  {
   "cell_type": "code",
   "source": [
    "print(ALL/num)"
   ],
   "metadata": {
    "collapsed": false
   },
   "id": "7f32058ce430fff",
   "outputs": [],
   "execution_count": null
  },
  {
   "cell_type": "code",
   "source": [
    "print(len(choice_list[0]))\n",
    "print(len(switches_list[0]))"
   ],
   "metadata": {
    "collapsed": false
   },
   "id": "7a940230b766414d",
   "outputs": [],
   "execution_count": null
  },
  {
   "cell_type": "code",
   "source": [
    "block_pos_model = reps.reconstruct_block_pos(block_pos_core, choice_list, switches_list)\n",
    "block_pos_model.to_csv('./block_pos_model.csv', index=False)\n",
    "bpos_model = bp.get_block_position_summaries(block_pos_model)\n",
    "print(bpos_model)"
   ],
   "metadata": {
    "collapsed": false
   },
   "id": "dca78729650754be",
   "outputs": [],
   "execution_count": null
  },
  {
   "cell_type": "code",
   "source": [
    "\n",
    "bpos_model['condition'] = 'model' # label model predictions as such\n",
    "bpos_model_v_mouse = pd.concat((bpos_mouse, bpos_model)) # agg df with model predictions and mouse data\n",
    "color_dict = {'mouse': 'gray', 'model': sns.color_palette()[0]}#plot_config['model_seq_col']}\n",
    "bp.plot_by_block_position(bpos_model_v_mouse, subset='condition', color_dict = color_dict)"
   ],
   "metadata": {
    "collapsed": false
   },
   "id": "78ac5006f915636f",
   "outputs": [],
   "execution_count": null
  },
  {
   "cell_type": "markdown",
   "source": [],
   "metadata": {
    "collapsed": false
   },
   "id": "ee4bc17fba6fac3"
  },
  {
   "cell_type": "code",
   "source": [
    "df_mouse_symm_reference = cprobs.calc_conditional_probs(data, symm=True, \n",
    "                                                        action=['Switch']).sort_values('pswitch')"
   ],
   "metadata": {
    "collapsed": false
   },
   "id": "23620ff3b3558768",
   "outputs": [],
   "execution_count": null
  },
  {
   "cell_type": "markdown",
   "source": [],
   "metadata": {
    "collapsed": false
   },
   "id": "dc68340723b513a0"
  },
  {
   "cell_type": "code",
   "source": [
    "df_mouse_symm = cprobs.calc_conditional_probs(block_pos_core, symm=True, action=['Switch', 'Decision'])\n",
    "df_mouse_symm = cprobs.sort_cprobs(df_mouse_symm, df_mouse_symm_reference.history.values)\n",
    "print(df_mouse_symm)\n",
    "bp.plot_sequences(df_mouse_symm, alpha=0.5) "
   ],
   "metadata": {
    "collapsed": false
   },
   "id": "1aae65eaf4e8154c",
   "outputs": [],
   "execution_count": null
  },
  {
   "cell_type": "code",
   "source": [
    "print()"
   ],
   "metadata": {
    "collapsed": false
   },
   "id": "754f00f90e71fa83",
   "outputs": [],
   "execution_count": null
  },
  {
   "cell_type": "code",
   "source": [
    "symm_cprobs_model = cprobs.calc_conditional_probs(block_pos_model, symm=True, action=['Switch'])\n",
    "symm_cprobs_model = cprobs.sort_cprobs(symm_cprobs_model, df_mouse_symm.history.values)\n",
    "print(symm_cprobs_model)\n",
    "bp.plot_sequences(df_mouse_symm, overlay=symm_cprobs_model, main_label='mouse', overlay_label='model')\n",
    "bp.plot_scatter(df_mouse_symm, symm_cprobs_model)"
   ],
   "metadata": {
    "collapsed": false
   },
   "id": "992ed14ad049d6a0",
   "outputs": [],
   "execution_count": null
  },
  {
   "cell_type": "code",
   "source": [],
   "metadata": {
    "collapsed": false
   },
   "id": "a272d6dfd5cf8859",
   "outputs": [],
   "execution_count": null
  },
  {
   "cell_type": "code",
   "source": [
    "sum = 0\n",
    "corr = 0\n",
    "for idx in range(len(choice_list)):\n",
    "    targets = test_features[idx][0]\n",
    "    preds = choice_list[idx]\n",
    "    corr += np.sum(preds==targets) \n",
    "    sum += len(preds)\n",
    "print(corr/sum)"
   ],
   "metadata": {
    "collapsed": false
   },
   "id": "e4f5a89346f1c684",
   "outputs": [],
   "execution_count": null
  },
  {
   "cell_type": "code",
   "source": [
    "sum = 0\n",
    "corr = 0\n",
    "for idx in range(len(choice_list)):\n",
    "    targets = model_switches[idx]\n",
    "    preds = np.array(switches_list[idx])\n",
    "    corr += np.sum(preds==targets) \n",
    "    sum += len(preds)\n",
    "print(switches_list[0])\n",
    "print(model_switches[0])\n",
    "print(corr/sum)"
   ],
   "metadata": {
    "collapsed": false
   },
   "id": "35af112b7e585484",
   "outputs": [],
   "execution_count": null
  },
  {
   "cell_type": "code",
   "source": [
    "print(np.sum(block_pos_model['Switch'] == data['Switch']) / len(data))\n",
    "print(np.sum(block_pos_model['Decision'] == data['Decision']) / len(data))                                                                                  "
   ],
   "metadata": {
    "collapsed": false
   },
   "id": "a89bb429922c9360",
   "outputs": [],
   "execution_count": null
  },
  {
   "cell_type": "code",
   "source": [
    "a = np.sum((block_pos_model['Switch'] == 0 ) & (data['Switch'] == 0)) / np.sum(data['Switch'] == 0)\n",
    "b = np.sum((block_pos_model['Switch'] == 1 ) & (data['Switch'] == 0)) / np.sum(data['Switch'] == 0)\n",
    "c = np.sum((block_pos_model['Switch'] == 0 ) & (data['Switch'] == 1)) / np.sum(data['Switch'] == 1)\n",
    "d = np.sum((block_pos_model['Switch'] == 1 ) & (data['Switch'] == 1)) / np.sum(data['Switch'] == 1)\n",
    "print(a.round(3)) \n",
    "print(b.round(3))\n",
    "print(c.round(3))\n",
    "print(d.round(3))"
   ],
   "metadata": {
    "collapsed": false
   },
   "id": "b8d80a19080177b8",
   "outputs": [],
   "execution_count": null
  },
  {
   "cell_type": "code",
   "source": [
    "a = np.sum((block_pos_model['Decision'] == 0 ) & (data['Decision'] == 0)) / np.sum(data['Decision'] == 0)\n",
    "b = np.sum((block_pos_model['Decision'] == 1 ) & (data['Decision'] == 0)) / np.sum(data['Decision'] == 0)\n",
    "c = np.sum((block_pos_model['Decision'] == 0 ) & (data['Decision'] == 1)) / np.sum(data['Decision'] == 1)\n",
    "d = np.sum((block_pos_model['Decision'] == 1 ) & (data['Decision'] == 1)) / np.sum(data['Decision'] == 1)\n",
    "print(a.round(3))\n",
    "print(b.round(3))\n",
    "print(c.round(3))\n",
    "print(d.round(3))\n"
   ],
   "metadata": {
    "collapsed": false
   },
   "id": "9bc9f11ec3144588",
   "outputs": [],
   "execution_count": null
  }
 ],
 "metadata": {
  "kernelspec": {
   "display_name": "Python 3",
   "language": "python",
   "name": "python3"
  },
  "language_info": {
   "codemirror_mode": {
    "name": "ipython",
    "version": 2
   },
   "file_extension": ".py",
   "mimetype": "text/x-python",
   "name": "python",
   "nbconvert_exporter": "python",
   "pygments_lexer": "ipython2",
   "version": "2.7.6"
  }
 },
 "nbformat": 4,
 "nbformat_minor": 5
}
