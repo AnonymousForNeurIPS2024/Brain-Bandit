{
 "cells": [
  {
   "cell_type": "code",
   "execution_count": null,
   "source": [
    "import sys\n",
    "sys.path.append('..')\n",
    "import numpy as np\n",
    "import pandas as pd\n",
    "from model.Lyapunov_Worm_deconstruction import Lyapunov_Worm_Deconstruction\n",
    "from Bandit.Expected_Value import CalculateMeanValue\n",
    "from Bandit.BanditGame import Play\n",
    "from tqdm import tqdm\n",
    "from multiprocessing import  Process\n",
    "\n",
    "\n",
    "dim = 2\n",
    "varargin = {\n",
    "    'step_num': 400,  # how many steps to run the brain circuit before executing the next movement\n",
    "    'tau': np.ones(dim),  # decay time constant\n",
    "    'weights_in': np.ones(dim) * 1.,  # input weights\n",
    "    'rs': np.ones(dim) * .5,  #\n",
    "    'w': np.ones(dim) * 4,  # weight of mutual inhibition\n",
    "    'k': 7. * np.ones(dim),  # sigmoid center\n",
    "    'n': 1.5 * np.ones(dim),  # sigmoid slope\n",
    "    'bi': np.ones(dim) * 5.7,  # baseline production\n",
    "    'dt': 1.2,  # size of timesteps\n",
    "    'nsf': 1.25,  # noise level\n",
    "    'w_avg_comp': 1. / 20.,\n",
    "    'w_std_comp': 1. / 4. * 1.\n",
    "}\n",
    "# seed = 1\n",
    "# np.random.seed(seed)\n",
    "conds = ['RR','SS','RS','SR']\n",
    "bandit_std_dict = {\n",
    "    'RR': [4., 4.],\n",
    "    'SS': [0., 0.],\n",
    "    'RS': [4., 0.],\n",
    "    'SR': [0.,4.]\n",
    "    \n",
    "}\n",
    "def Play_bandit(cond):\n",
    "    bandit_std_list = bandit_std_dict[cond]\n",
    "    prior = None\n",
    "    raw_path = f'bandit_data/raw_{dim}D_fan_'+cond+'high1.csv'\n",
    "    analysis_path = f'bandit_data/analysed_{dim}D_fan_'+cond+'high1.csv'\n",
    "    p = Play(varargin=varargin, dim=dim, force_times=2, prior=prior, init=True, bandit_mean=0, mean_std=10, bandit_std_list=bandit_std_list, subject=1, block=20000, trial=20, save=True, save_path=raw_path, save_mode='w')\n",
    "    p.play()\n",
    "    k = CalculateMeanValue(raw_path, analysis_path, trial=20, dim=dim, prior=prior)\n",
    "    k.run()\n",
    "    \n",
    "if __name__ == '__main__':\n",
    "    process_list = []\n",
    "    for cond in conds:\n",
    "        p = Process(target=Play_bandit,args=(cond,))\n",
    "        p.start()\n",
    "        process_list.append(p)\n",
    "    \n",
    "    for i in process_list:\n",
    "        p.join()"
   ],
   "metadata": {
    "collapsed": false
   },
   "id": "67f1f7ff051c2328",
   "outputs": []
  }
 ],
 "metadata": {
  "kernelspec": {
   "display_name": "Python 3",
   "language": "python",
   "name": "python3"
  },
  "language_info": {
   "codemirror_mode": {
    "name": "ipython",
    "version": 2
   },
   "file_extension": ".py",
   "mimetype": "text/x-python",
   "name": "python",
   "nbconvert_exporter": "python",
   "pygments_lexer": "ipython2",
   "version": "2.7.6"
  }
 },
 "nbformat": 4,
 "nbformat_minor": 5
}
