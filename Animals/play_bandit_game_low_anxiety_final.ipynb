{
 "cells": [
  {
   "cell_type": "code",
   "execution_count": null,
   "id": "d56ad6ce9598014c",
   "metadata": {
    "collapsed": true
   },
   "source": [
    "import sys\n",
    "sys.path.append('..')\n",
    "import numpy as np\n",
    "import pandas as pd\n",
    "from model.Lyapunov_Worm_deconstruction import Lyapunov_Worm_Deconstruction\n",
    "from Bandit.Expected_Value import CalculateMeanValue\n",
    "from Bandit.BanditGame import Play\n",
    "from tqdm import tqdm"
   ],
   "outputs": []
  },
  {
   "cell_type": "code",
   "execution_count": null,
   "source": [
    "\n",
    "dim = 2\n",
    "varargin = {\n",
    "    'step_num': 400,  # how many steps to run the brain circuit before executing the next movement\n",
    "    'tau': np.ones(dim),  # decay time constant\n",
    "    'weights_in': np.ones(dim) * 1.,  # input weights\n",
    "    'rs': np.ones(dim) * .5,  #\n",
    "    'w': np.ones(dim) * 4,  # weight of mutual inhibition\n",
    "    'k': 7. * np.ones(dim),  # sigmoid center\n",
    "    'n': 1.5 * np.ones(dim),  # sigmoid slope\n",
    "    'bi': np.ones(dim) * 6.0,  # baseline production\n",
    "    'dt': 1.2,  # size of timesteps\n",
    "    'nsf': 1.35,  # noise level\n",
    "    'w_avg_comp': 1. / 20.,\n",
    "    'w_std_comp': 1. / 4. * 1.\n",
    "}\n",
    "# seed = 1\n",
    "# np.random.seed(seed)\n",
    "conds = ['RR', 'SS', 'RS', 'SR']\n",
    "bandit_std_dict = {\n",
    "    'RR': [4., 4.],\n",
    "    'SS': [0., 0.],\n",
    "    'RS': [4., 0.],\n",
    "    'SR': [0., 4.]\n",
    "\n",
    "}\n",
    "for cond in conds:\n",
    "    bandit_std_list = bandit_std_dict[cond]\n",
    "    prior = None\n",
    "    raw_path = f'bandit_data/raw_{dim}D_fan_' + cond + 'low1.csv'\n",
    "    analysis_path = f'bandit_data/analysed_{dim}D_fan_' + cond + 'low1.csv'\n",
    "    p = Play(varargin=varargin, dim=dim, force_times=2, prior=prior, init=True, bandit_mean=0, mean_std=10,\n",
    "             bandit_std_list=bandit_std_list, subject=1, block=20000, trial=20, save=True, save_path=raw_path,\n",
    "             save_mode='w')\n",
    "    p.play()\n",
    "    k = Kalman_filter_no_prior(raw_path, analysis_path, trial=20, dim=dim, prior=prior)\n",
    "    k.run()"
   ],
   "metadata": {
    "collapsed": false
   },
   "id": "initial_id",
   "outputs": []
  },
  {
   "cell_type": "code",
   "execution_count": null,
   "source": [],
   "metadata": {
    "collapsed": false
   },
   "id": "29154aba92143f55",
   "outputs": []
  }
 ],
 "metadata": {
  "kernelspec": {
   "display_name": "Python 3",
   "language": "python",
   "name": "python3"
  },
  "language_info": {
   "codemirror_mode": {
    "name": "ipython",
    "version": 2
   },
   "file_extension": ".py",
   "mimetype": "text/x-python",
   "name": "python",
   "nbconvert_exporter": "python",
   "pygments_lexer": "ipython2",
   "version": "2.7.6"
  }
 },
 "nbformat": 4,
 "nbformat_minor": 5
}
